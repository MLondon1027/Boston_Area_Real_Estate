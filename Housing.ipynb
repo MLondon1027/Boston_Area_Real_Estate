{
 "cells": [
  {
   "cell_type": "code",
   "execution_count": 77,
   "metadata": {},
   "outputs": [],
   "source": [
    "import pandas as pd\n",
    "import numpy as np\n",
    "import matplotlib.pyplot as plt\n",
    "%matplotlib inline\n",
    "from sklearn.model_selection import train_test_split\n",
    "import seaborn as sns\n",
    "from sklearn.preprocessing import StandardScaler\n",
    "from sklearn.dummy import DummyRegressor"
   ]
  },
  {
   "cell_type": "code",
   "execution_count": 78,
   "metadata": {},
   "outputs": [],
   "source": [
    "train = pd.read_csv('/users/monicalondon/Downloads/8855_12352_bundle_archive/housing_train.csv')\n",
    "test = pd.read_csv('/users/monicalondon/Downloads/8855_12352_bundle_archive/housing_test.csv')"
   ]
  },
  {
   "cell_type": "code",
   "execution_count": 79,
   "metadata": {},
   "outputs": [],
   "source": [
    "frames = [train, test]\n",
    "data = pd.concat(frames)\n"
   ]
  },
  {
   "cell_type": "code",
   "execution_count": 80,
   "metadata": {},
   "outputs": [],
   "source": [
    "# Drop ID column\n",
    "data.drop(['Id'], axis=1, inplace=True)"
   ]
  },
  {
   "cell_type": "code",
   "execution_count": 81,
   "metadata": {},
   "outputs": [],
   "source": [
    "# Drop alley column\n",
    "data.drop(['Alley'], axis=1, inplace=True)"
   ]
  },
  {
   "cell_type": "code",
   "execution_count": 82,
   "metadata": {},
   "outputs": [],
   "source": [
    "# Drop poolQC column\n",
    "data.drop(['PoolQC'], axis=1, inplace=True)"
   ]
  },
  {
   "cell_type": "code",
   "execution_count": 83,
   "metadata": {},
   "outputs": [],
   "source": [
    "# Drop MiscFeatures column\n",
    "data.drop(['MiscFeature'], axis=1, inplace=True)"
   ]
  },
  {
   "cell_type": "code",
   "execution_count": 84,
   "metadata": {},
   "outputs": [],
   "source": [
    "# Drop Fence column\n",
    "data.drop(['Fence'], axis=1, inplace=True)"
   ]
  },
  {
   "cell_type": "code",
   "execution_count": 85,
   "metadata": {},
   "outputs": [],
   "source": [
    "# Drop MiscVal column\n",
    "data.drop(['MiscVal'], axis=1, inplace=True)"
   ]
  },
  {
   "cell_type": "code",
   "execution_count": 86,
   "metadata": {},
   "outputs": [],
   "source": [
    "# Drop FireplaceQA column\n",
    "data.drop(['FireplaceQu'], axis=1, inplace=True)"
   ]
  },
  {
   "cell_type": "code",
   "execution_count": 87,
   "metadata": {},
   "outputs": [],
   "source": [
    "# Drop values with no sale price"
   ]
  },
  {
   "cell_type": "code",
   "execution_count": 88,
   "metadata": {},
   "outputs": [],
   "source": [
    "data['SalePrice'].replace('', np.nan, inplace=True)"
   ]
  },
  {
   "cell_type": "code",
   "execution_count": 89,
   "metadata": {},
   "outputs": [],
   "source": [
    "data.dropna(subset=['SalePrice'], inplace=True)"
   ]
  },
  {
   "cell_type": "code",
   "execution_count": 90,
   "metadata": {},
   "outputs": [],
   "source": [
    "# Separate X and y\n",
    "X = data.drop(['SalePrice'], axis=1)\n",
    "y = data['SalePrice']"
   ]
  },
  {
   "cell_type": "code",
   "execution_count": 91,
   "metadata": {},
   "outputs": [],
   "source": [
    "# Train Test Split\n",
    "X_train, X_test, y_train, y_test = train_test_split(X, y, test_size=0.25, random_state=42)"
   ]
  },
  {
   "cell_type": "code",
   "execution_count": null,
   "metadata": {},
   "outputs": [],
   "source": []
  },
  {
   "cell_type": "markdown",
   "metadata": {},
   "source": [
    "### EDA"
   ]
  },
  {
   "cell_type": "code",
   "execution_count": 62,
   "metadata": {},
   "outputs": [
    {
     "data": {
      "image/png": "[encoded data removed]",
      "text/plain": [
       "<Figure size 432x288 with 1 Axes>"
      ]
     },
     "metadata": {
      "needs_background": "light"
     },
     "output_type": "display_data"
    }
   ],
   "source": [
    "sns.distplot(data['SalePrice']);"
   ]
  },
  {
   "cell_type": "markdown",
   "metadata": {},
   "source": [
    "We can see that the Sale Price is not normally distributed, so we will need to do a log transformation"
   ]
  },
  {
   "cell_type": "code",
   "execution_count": 64,
   "metadata": {},
   "outputs": [
    {
     "data": {
      "text/plain": [
       "<matplotlib.axes._subplots.AxesSubplot at 0x7ff46d717510>"
      ]
     },
     "execution_count": 64,
     "metadata": {},
     "output_type": "execute_result"
    },
    {
     "data": {
      "image/png": "[encoded data removed]",
      "text/plain": [
       "<Figure size 432x288 with 1 Axes>"
      ]
     },
     "metadata": {
      "needs_background": "light"
     },
     "output_type": "display_data"
    }
   ],
   "source": [
    "sns.distplot(np.log(data['SalePrice']))"
   ]
  },
  {
   "cell_type": "markdown",
   "metadata": {},
   "source": [
    "### Missing Values"
   ]
  },
  {
   "cell_type": "code",
   "execution_count": 126,
   "metadata": {},
   "outputs": [
    {
     "data": {
      "text/plain": [
       "MSSubClass                    0\n",
       "MSZoning                      0\n",
       "LotFrontage                 259\n",
       "LotArea                       0\n",
       "Street                        0\n",
       "                           ... \n",
       "SaleType                      0\n",
       "SaleCondition                 0\n",
       "SalePrice                     0\n",
       "Total_Bathrooms               0\n",
       "Basement_Total_Bathrooms      0\n",
       "Length: 72, dtype: int64"
      ]
     },
     "execution_count": 126,
     "metadata": {},
     "output_type": "execute_result"
    }
   ],
   "source": [
    "#check for missing values\n",
    "data.isna().sum()"
   ]
  },
  {
   "cell_type": "markdown",
   "metadata": {},
   "source": [
    "We have 259 missing values in LotFrontage. We can fill missing LotFrontage values based on mean LotArea/LotFrontage value."
   ]
  },
  {
   "cell_type": "code",
   "execution_count": 138,
   "metadata": {},
   "outputs": [],
   "source": [
    "# Fill missing LotFrontage values based on median LotArea/LotFrontage value\n",
    "data['LotFrontage'] = data['LotFrontage'].fillna((data['LotArea']/data['LotFrontage']).median())"
   ]
  },
  {
   "cell_type": "code",
   "execution_count": 142,
   "metadata": {},
   "outputs": [
    {
     "data": {
      "text/plain": [
       "None       864\n",
       "BrkFace    445\n",
       "Stone      128\n",
       "BrkCmn      15\n",
       "Name: MasVnrType, dtype: int64"
      ]
     },
     "execution_count": 142,
     "metadata": {},
     "output_type": "execute_result"
    }
   ],
   "source": [
    "data['MasVnrType'].value_counts()"
   ]
  },
  {
   "cell_type": "code",
   "execution_count": 147,
   "metadata": {},
   "outputs": [],
   "source": [
    "# Fill missing MasVnrType values with None (mode)\n",
    "data['MasVnrType'] = data['MasVnrType'].fillna('None')"
   ]
  },
  {
   "cell_type": "code",
   "execution_count": 153,
   "metadata": {},
   "outputs": [],
   "source": [
    "# Fill missing MasVnrArea values with 0\n",
    "data['MasVnrArea'] = data['MasVnrArea'].fillna(0.0)"
   ]
  },
  {
   "cell_type": "code",
   "execution_count": 159,
   "metadata": {},
   "outputs": [
    {
     "data": {
      "text/plain": [
       "SBrkr    1334\n",
       "FuseA      94\n",
       "FuseF      27\n",
       "FuseP       3\n",
       "Mix         1\n",
       "Name: Electrical, dtype: int64"
      ]
     },
     "execution_count": 159,
     "metadata": {},
     "output_type": "execute_result"
    }
   ],
   "source": [
    "data['Electrical'].value_counts()"
   ]
  },
  {
   "cell_type": "code",
   "execution_count": 162,
   "metadata": {},
   "outputs": [],
   "source": [
    "# Fill missing Electrical value with mode\n",
    "data['Electrical'] = data['Electrical'].fillna('SBrkr')"
   ]
  },
  {
   "cell_type": "code",
   "execution_count": 163,
   "metadata": {},
   "outputs": [
    {
     "name": "stdout",
     "output_type": "stream",
     "text": [
      "<class 'pandas.core.frame.DataFrame'>\n",
      "Int64Index: 1460 entries, 0 to 1459\n",
      "Data columns (total 72 columns):\n",
      " #   Column                    Non-Null Count  Dtype  \n",
      "---  ------                    --------------  -----  \n",
      " 0   MSSubClass                1460 non-null   int64  \n",
      " 1   MSZoning                  1460 non-null   object \n",
      " 2   LotFrontage               1460 non-null   float64\n",
      " 3   LotArea                   1460 non-null   int64  \n",
      " 4   Street                    1460 non-null   object \n",
      " 5   LotShape                  1460 non-null   object \n",
      " 6   LandContour               1460 non-null   object \n",
      " 7   Utilities                 1460 non-null   object \n",
      " 8   LotConfig                 1460 non-null   object \n",
      " 9   LandSlope                 1460 non-null   object \n",
      " 10  Neighborhood              1460 non-null   object \n",
      " 11  Condition1                1460 non-null   object \n",
      " 12  Condition2                1460 non-null   object \n",
      " 13  BldgType                  1460 non-null   object \n",
      " 14  HouseStyle                1460 non-null   object \n",
      " 15  OverallQual               1460 non-null   int64  \n",
      " 16  OverallCond               1460 non-null   int64  \n",
      " 17  YearBuilt                 1460 non-null   int64  \n",
      " 18  YearRemodAdd              1460 non-null   int64  \n",
      " 19  RoofStyle                 1460 non-null   object \n",
      " 20  RoofMatl                  1460 non-null   object \n",
      " 21  Exterior1st               1460 non-null   object \n",
      " 22  Exterior2nd               1460 non-null   object \n",
      " 23  MasVnrType                1460 non-null   object \n",
      " 24  MasVnrArea                1460 non-null   float64\n",
      " 25  ExterQual                 1460 non-null   object \n",
      " 26  ExterCond                 1460 non-null   object \n",
      " 27  Foundation                1460 non-null   object \n",
      " 28  BsmtQual                  1423 non-null   object \n",
      " 29  BsmtCond                  1423 non-null   object \n",
      " 30  BsmtExposure              1422 non-null   object \n",
      " 31  BsmtFinType1              1423 non-null   object \n",
      " 32  BsmtFinSF1                1460 non-null   float64\n",
      " 33  BsmtFinType2              1422 non-null   object \n",
      " 34  BsmtFinSF2                1460 non-null   float64\n",
      " 35  BsmtUnfSF                 1460 non-null   float64\n",
      " 36  TotalBsmtSF               1460 non-null   float64\n",
      " 37  Heating                   1460 non-null   object \n",
      " 38  HeatingQC                 1460 non-null   object \n",
      " 39  CentralAir                1460 non-null   object \n",
      " 40  Electrical                1460 non-null   object \n",
      " 41  1stFlrSF                  1460 non-null   int64  \n",
      " 42  2ndFlrSF                  1460 non-null   int64  \n",
      " 43  LowQualFinSF              1460 non-null   int64  \n",
      " 44  GrLivArea                 1460 non-null   int64  \n",
      " 45  BedroomAbvGr              1460 non-null   int64  \n",
      " 46  KitchenAbvGr              1460 non-null   int64  \n",
      " 47  KitchenQual               1460 non-null   object \n",
      " 48  TotRmsAbvGrd              1460 non-null   int64  \n",
      " 49  Functional                1460 non-null   object \n",
      " 50  Fireplaces                1460 non-null   int64  \n",
      " 51  GarageType                1379 non-null   object \n",
      " 52  GarageYrBlt               1379 non-null   float64\n",
      " 53  GarageFinish              1379 non-null   object \n",
      " 54  GarageCars                1460 non-null   float64\n",
      " 55  GarageArea                1460 non-null   float64\n",
      " 56  GarageQual                1379 non-null   object \n",
      " 57  GarageCond                1379 non-null   object \n",
      " 58  PavedDrive                1460 non-null   object \n",
      " 59  WoodDeckSF                1460 non-null   int64  \n",
      " 60  OpenPorchSF               1460 non-null   int64  \n",
      " 61  EnclosedPorch             1460 non-null   int64  \n",
      " 62  3SsnPorch                 1460 non-null   int64  \n",
      " 63  ScreenPorch               1460 non-null   int64  \n",
      " 64  PoolArea                  1460 non-null   int64  \n",
      " 65  MoSold                    1460 non-null   int64  \n",
      " 66  YrSold                    1460 non-null   int64  \n",
      " 67  SaleType                  1460 non-null   object \n",
      " 68  SaleCondition             1460 non-null   object \n",
      " 69  SalePrice                 1460 non-null   float64\n",
      " 70  Total_Bathrooms           1460 non-null   float64\n",
      " 71  Basement_Total_Bathrooms  1460 non-null   float64\n",
      "dtypes: float64(12), int64(22), object(38)\n",
      "memory usage: 872.7+ KB\n"
     ]
    }
   ],
   "source": [
    "data.info()"
   ]
  },
  {
   "cell_type": "code",
   "execution_count": 120,
   "metadata": {},
   "outputs": [
    {
     "data": {
      "text/plain": [
       "0.5232876712328767"
      ]
     },
     "execution_count": 120,
     "metadata": {},
     "output_type": "execute_result"
    }
   ],
   "source": [
    "# What percent of properties have been remodeled?\n",
    "(data['YearRemodAdd'] == data['YearBuilt']).sum()/len(data)"
   ]
  },
  {
   "cell_type": "code",
   "execution_count": 75,
   "metadata": {},
   "outputs": [
    {
     "data": {
      "text/plain": [
       "array([0, 1, 2, 3])"
      ]
     },
     "execution_count": 75,
     "metadata": {},
     "output_type": "execute_result"
    }
   ],
   "source": [
    "data['Fireplaces'].unique()"
   ]
  },
  {
   "cell_type": "code",
   "execution_count": 94,
   "metadata": {},
   "outputs": [
    {
     "data": {
      "text/plain": [
       "array(['VinylSd', 'MetalSd', 'Wd Sdng', 'HdBoard', 'BrkFace', 'WdShing',\n",
       "       'CemntBd', 'Plywood', 'AsbShng', 'Stucco', 'BrkComm', 'AsphShn',\n",
       "       'Stone', 'ImStucc', 'CBlock'], dtype=object)"
      ]
     },
     "execution_count": 94,
     "metadata": {},
     "output_type": "execute_result"
    }
   ],
   "source": [
    "data['Exterior1st'].unique()"
   ]
  },
  {
   "cell_type": "code",
   "execution_count": 95,
   "metadata": {},
   "outputs": [
    {
     "data": {
      "text/plain": [
       "array(['Gd', 'TA', 'Ex', 'Fa'], dtype=object)"
      ]
     },
     "execution_count": 95,
     "metadata": {},
     "output_type": "execute_result"
    }
   ],
   "source": [
    "data['KitchenQual'].unique()"
   ]
  },
  {
   "cell_type": "code",
   "execution_count": 121,
   "metadata": {},
   "outputs": [
    {
     "data": {
      "text/plain": [
       "array([  0, 512, 648, 576, 555, 480, 519, 738])"
      ]
     },
     "execution_count": 121,
     "metadata": {},
     "output_type": "execute_result"
    }
   ],
   "source": [
    "data['PoolArea'].unique()"
   ]
  },
  {
   "cell_type": "markdown",
   "metadata": {},
   "source": [
    "### Baseline Model"
   ]
  },
  {
   "cell_type": "code",
   "execution_count": 93,
   "metadata": {},
   "outputs": [
    {
     "data": {
      "text/plain": [
       "-0.0014293725084049136"
      ]
     },
     "execution_count": 93,
     "metadata": {},
     "output_type": "execute_result"
    }
   ],
   "source": [
    "dummy_mean = DummyRegressor(strategy='mean')\n",
    "dummy_mean.fit(X_train, y_train)\n",
    "dummy_mean.score(X_test, y_test)"
   ]
  },
  {
   "cell_type": "markdown",
   "metadata": {},
   "source": [
    "### Feature Engineering"
   ]
  },
  {
   "cell_type": "code",
   "execution_count": 108,
   "metadata": {},
   "outputs": [],
   "source": [
    "# Combine full and half bathrooms\n",
    "data['Total_Bathrooms'] = data['FullBath'] + data['HalfBath']*.5"
   ]
  },
  {
   "cell_type": "code",
   "execution_count": 111,
   "metadata": {},
   "outputs": [],
   "source": [
    "# Drop full & half bathrooms\n",
    "data.drop(['FullBath'], axis=1, inplace=True)\n",
    "data.drop(['HalfBath'], axis=1, inplace=True)"
   ]
  },
  {
   "cell_type": "code",
   "execution_count": 110,
   "metadata": {},
   "outputs": [],
   "source": [
    "# Combine basement full and half bathrooms\n",
    "data['Basement_Total_Bathrooms'] = data['BsmtFullBath'] + data['BsmtHalfBath']*.5"
   ]
  },
  {
   "cell_type": "code",
   "execution_count": 112,
   "metadata": {},
   "outputs": [],
   "source": [
    "# Drop basement full & half bathrooms\n",
    "data.drop(['BsmtFullBath'], axis=1, inplace=True)\n",
    "data.drop(['BsmtHalfBath'], axis=1, inplace=True)"
   ]
  },
  {
   "cell_type": "code",
   "execution_count": 114,
   "metadata": {},
   "outputs": [
    {
     "data": {
      "text/plain": [
       "array(['GasA', 'GasW', 'Grav', 'Wall', 'OthW', 'Floor'], dtype=object)"
      ]
     },
     "execution_count": 114,
     "metadata": {},
     "output_type": "execute_result"
    }
   ],
   "source": [
    "data['Heating'].unique()"
   ]
  },
  {
   "cell_type": "code",
   "execution_count": 115,
   "metadata": {},
   "outputs": [
    {
     "data": {
      "text/plain": [
       "array(['Attchd', 'Detchd', 'BuiltIn', 'CarPort', nan, 'Basment', '2Types'],\n",
       "      dtype=object)"
      ]
     },
     "execution_count": 115,
     "metadata": {},
     "output_type": "execute_result"
    }
   ],
   "source": [
    "data['GarageType'].unique()"
   ]
  },
  {
   "cell_type": "code",
   "execution_count": null,
   "metadata": {},
   "outputs": [],
   "source": []
  }
 ],
 "metadata": {
  "kernelspec": {
   "display_name": "Python 3",
   "language": "python",
   "name": "python3"
  },
  "language_info": {
   "codemirror_mode": {
    "name": "ipython",
    "version": 3
   },
   "file_extension": ".py",
   "mimetype": "text/x-python",
   "name": "python",
   "nbconvert_exporter": "python",
   "pygments_lexer": "ipython3",
   "version": "3.7.7"
  }
 },
 "nbformat": 4,
 "nbformat_minor": 4
}
